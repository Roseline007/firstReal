{"cells":[{"cell_type":"markdown","metadata":{},"source":["<center>\n","    <img src=\"https://s3-api.us-geo.objectstorage.softlayer.net/cf-courses-data/CognitiveClass/Logos/organization_logo/organization_logo.png\" width=\"300\" alt=\"cognitiveclass.ai logo\"  />\n","</center>\n"]},{"cell_type":"markdown","metadata":{},"source":["#### Add your code below following the instructions given in the course\n"]},{"cell_type":"code","execution_count":null,"metadata":{},"outputs":[],"source":[]}],"metadata":{"kernelspec":{"display_name":"Python 3","language":"python","name":"python3"},"language_info":{"codemirror_mode":{"name":"ipython","version":3},"file_extension":".py","mimetype":"text/x-python","name":"python","nbconvert_exporter":"python","pygments_lexer":"ipython3","version":"3.7.6"}},"nbformat":4,"nbformat_minor":4}


# My Jupyter Notebook on IBM Watson Studio.

**Name: Roseline Olawoore.** <br>
Desired Occupation: Data Scientist.

I am interested in data science because:
1. To provide intelligent solutions to problems.
2. To work as a professional with in the sexiest job field.
3. To contribute to the growth and usefulness of technology and science.

### Cell 5 explanation:
The lines of code in cell 5(below), ilustrates the ability of Python(a High Level Programming Language) to perform mathematical operations.<br>
I will be using the 'print()' statement to display the output of the arthmetic operation.

a= 3
d = 4
print(3+4)



|header|header|header|
|------|------|------|
|I|Love|You|

My favourite fruits:
*  bread
*  beans
*  rice
*  potatoe<br>

1. Example of a numbered lists.
2. have to type something<br>
    2i. something like this.
         2ii. or, something like this.<br>
            

Thank You.
